{
 "cells": [
  {
   "cell_type": "code",
   "execution_count": null,
   "metadata": {},
   "outputs": [],
   "source": [
    "import numpy as np\n",
    "X = np.array(([2, 9], [1, 5], [3, 6]), dtype=float)\n",
    "y = np.array(([92], [86], [89]), dtype=float)\n",
    "X = X / np.amax(X,axis=0)\n",
    "y = y / 100\n",
    "\n",
    "def sigmoid(x):\n",
    "    return 1/(1 + np.exp(-x))\n",
    "\n",
    "def der_sigmoid(x):\n",
    "    return x * (1 - x)\n",
    "\n",
    "epoch = 60000\n",
    "lr = 0.1\n",
    "i_neuron = 2\n",
    "h_neuron = 3\n",
    "o_neuron = 1\n",
    "\n",
    "wh=np.random.uniform(size=(i_neuron,h_neuron))\n",
    "bh=np.random.uniform(size=(1,h_neuron))\n",
    "wout=np.random.uniform(size=(h_neuron,o_neuron))\n",
    "bout=np.random.uniform(size=(1,o_neuron))\n",
    "\n",
    "for i in range(epoch):\n",
    "    hinp = np.dot(X,wh) + bh\n",
    "    h_act = sigmoid(hinp)\n",
    "    oinp = np.dot(h_act , wout) + bout\n",
    "    out = sigmoid(oinp)\n",
    "\n",
    "    EO = y-out\n",
    "    outgrad = der_sigmoid(out)\n",
    "    delta_o = EO * outgrad\n",
    "    err_h = delta_o.dot(wout.T)\n",
    "\n",
    "    grad_h = der_sigmoid(h_act)\n",
    "    d_hiddenlayer = err_h * grad_h\n",
    "\n",
    "    wout += h_act.T.dot(delta_o) * lr\n",
    "    wh += X.T.dot(d_hiddenlayer) * lr\n",
    "\n",
    "print(\"Input: \\n\" + str(X))\n",
    "print(\"Actual Output: \\n\" + str(y))\n",
    "print(\"Predicted Output: \\n\" ,out)"
   ]
  }
 ],
 "metadata": {
  "kernelspec": {
   "display_name": "Python 3",
   "language": "python",
   "name": "python3"
  },
  "language_info": {
   "codemirror_mode": {
    "name": "ipython",
    "version": 3
   },
   "file_extension": ".py",
   "mimetype": "text/x-python",
   "name": "python",
   "nbconvert_exporter": "python",
   "pygments_lexer": "ipython3",
   "version": "3.10.4 (tags/v3.10.4:9d38120, Mar 23 2022, 23:13:41) [MSC v.1929 64 bit (AMD64)]"
  },
  "orig_nbformat": 4,
  "vscode": {
   "interpreter": {
    "hash": "47585d7e26a53dd11384cfbca0ed0fada68da3b2f61a4b1c0645c12a4712488b"
   }
  }
 },
 "nbformat": 4,
 "nbformat_minor": 2
}
