{
 "cells": [
  {
   "cell_type": "code",
   "execution_count": 13,
   "metadata": {},
   "outputs": [
    {
     "name": "stdout",
     "output_type": "stream",
     "text": [
      "5669 correct of 5687\n",
      "Accuracy: 0.9968348865834359\n",
      "2428 correct of 2437\n",
      "Accuracy: 0.9963069347558473\n"
     ]
    }
   ],
   "source": [
    "import numpy as np\n",
    "import pandas as pd\n",
    "\n",
    "\n",
    "mush = pd.read_csv(\"mushrooms.csv\")\n",
    "\n",
    "\n",
    "mush.replace(\"?\", np.nan, inplace=True)\n",
    "\n",
    "mush.dropna(axis=1, inplace=True)\n",
    "\n",
    "\n",
    "target = \"class\"\n",
    "features = mush.columns[mush.columns != target]\n",
    "classes = mush[target].unique()\n",
    "\n",
    "test = mush.sample(frac=0.3)\n",
    "mush = mush.drop(test.index)\n",
    "\n",
    "\n",
    "probs = {}\n",
    "probcl = {}\n",
    "for x in classes:\n",
    "    mushcl = mush[mush[target] == x][features]\n",
    "    clsp = {}\n",
    "    tot = len(mushcl)\n",
    "    for col in mushcl.columns:\n",
    "        colp = {}\n",
    "        for val, cnt in mushcl[col].value_counts().iteritems():\n",
    "            pr = cnt / tot\n",
    "            colp[val] = pr\n",
    "        clsp[col] = colp\n",
    "    probs[x] = clsp\n",
    "    probcl[x] = len(mushcl) / len(mush)\n",
    "\n",
    "\n",
    "def probabs(x):\n",
    "    # X - pandas Series with index as feature\n",
    "    probab = {}\n",
    "    for cl in classes:\n",
    "        pr = probcl[cl]\n",
    "        for col, val in x.iteritems():\n",
    "            try:\n",
    "                pr *= probs[cl][col][val]\n",
    "            except KeyError:\n",
    "                pr = 0\n",
    "        probab[cl] = pr\n",
    "    return probab\n",
    "\n",
    "\n",
    "def classify(x):\n",
    "    probab = probabs(x)\n",
    "    mx = 0\n",
    "    mxcl = \"\"\n",
    "    for cl, pr in probab.items():\n",
    "        if pr > mx:\n",
    "            mx = pr\n",
    "            mxcl = cl\n",
    "    return mxcl\n",
    "\n",
    "\n",
    "b = []\n",
    "for i in mush.index:\n",
    "    # print(classify(mush.loc[i,features]),mush.loc[i,target])\n",
    "    b.append(classify(mush.loc[i, features]) == mush.loc[i, target])\n",
    "print(sum(b), \"correct of\", len(mush))\n",
    "print(\"Accuracy:\", sum(b) / len(mush))\n",
    "\n",
    "\n",
    "b = []\n",
    "for i in test.index:\n",
    "    # print(classify(mush.loc[i,features]),mush.loc[i,target])\n",
    "    b.append(classify(test.loc[i, features]) == test.loc[i, target])\n",
    "print(sum(b), \"correct of\", len(test))\n",
    "print(\"Accuracy:\", sum(b) / len(test))"
   ]
  },
  {
   "cell_type": "code",
   "execution_count": 12,
   "metadata": {},
   "outputs": [
    {
     "name": "stdout",
     "output_type": "stream",
     "text": [
      "5676 correct of 5687\n",
      "Accuracy: 0.9980657640232108\n",
      "2430 correct of 2437\n",
      "Accuracy: 0.9971276159212146\n"
     ]
    }
   ],
   "source": [
    "import numpy as np\n",
    "import pandas as pd\n",
    "\n",
    "\n",
    "mush = pd.read_csv(\"mushrooms.csv\")\n",
    "\n",
    "\n",
    "mush.replace(\"?\", np.nan, inplace=True)\n",
    "\n",
    "mush.dropna(axis=1, inplace=True)\n",
    "\n",
    "\n",
    "target = \"class\"\n",
    "features = mush.columns[mush.columns != target]\n",
    "classes = mush[target].unique()\n",
    "\n",
    "test = mush.sample(frac=0.3)\n",
    "mush = mush.drop(test.index)\n",
    "\n",
    "\n",
    "\n",
    "\n",
    "b = []\n",
    "for i in mush.index:\n",
    "    # print(classify(mush.loc[i,features]),mush.loc[i,target])\n",
    "    b.append(classify(mush.loc[i, features]) == mush.loc[i, target])\n",
    "print(sum(b), \"correct of\", len(mush))\n",
    "print(\"Accuracy:\", sum(b) / len(mush))\n",
    "\n",
    "\n",
    "b = []\n",
    "for i in test.index:\n",
    "    # print(classify(mush.loc[i,features]),mush.loc[i,target])\n",
    "    b.append(classify(test.loc[i, features]) == test.loc[i, target])\n",
    "print(sum(b), \"correct of\", len(test))\n",
    "print(\"Accuracy:\", sum(b) / len(test))"
   ]
  },
  {
   "cell_type": "code",
   "execution_count": null,
   "metadata": {},
   "outputs": [],
   "source": []
  }
 ],
 "metadata": {
  "kernelspec": {
   "display_name": "base",
   "language": "python",
   "name": "python3"
  },
  "language_info": {
   "codemirror_mode": {
    "name": "ipython",
    "version": 3
   },
   "file_extension": ".py",
   "mimetype": "text/x-python",
   "name": "python",
   "nbconvert_exporter": "python",
   "pygments_lexer": "ipython3",
   "version": "3.8.8"
  },
  "orig_nbformat": 4,
  "vscode": {
   "interpreter": {
    "hash": "b647a98f5a771bef6128177185896650a5eaba3992f263c2977efddc3ac935a8"
   }
  }
 },
 "nbformat": 4,
 "nbformat_minor": 2
}
