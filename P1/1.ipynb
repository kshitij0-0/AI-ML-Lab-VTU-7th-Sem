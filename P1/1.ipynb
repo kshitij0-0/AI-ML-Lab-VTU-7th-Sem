{
 "cells": [
  {
   "cell_type": "code",
   "execution_count": 17,
   "metadata": {},
   "outputs": [
    {
     "name": "stdout",
     "output_type": "stream",
     "text": [
      "Path does not exist\n"
     ]
    }
   ],
   "source": [
    "def astar(start_node,stop_node):\n",
    "\n",
    "    open_set=set(start_node)\n",
    "    closed_set=set()\n",
    "    g={}\n",
    "    parents={}\n",
    "    g[start_node]=0\n",
    "    parents[start_node]=start_node\n",
    "\n",
    "    while len(open_set)>0:\n",
    "        n=None\n",
    "        for v in open_set:\n",
    "            if n==None or g[v] + heuristic(v) < g[n] + heuristic(n):\n",
    "                n=v\n",
    "    \n",
    "        if n==stop_node or Graph_nodes[n]==None:\n",
    "            pass\n",
    "        else:\n",
    "            for m,weight in get_neighbors(n):\n",
    "                if m not in open_set and m not in closed_set:\n",
    "                    open_set.add(m)\n",
    "                    parents[m]=n\n",
    "                    g[m]=g[n]+weight\n",
    "                \n",
    "                else:\n",
    "                    if g[m] > g[n] + weight:\n",
    "                        g[m]=g[n]+weight\n",
    "                        parents[m]=n\n",
    "                        \n",
    "\n",
    "                        if m in closed_set:\n",
    "                            closed_set.remove(m)\n",
    "                            open_set.add(m)\n",
    "\n",
    "        if n== None:\n",
    "            return None\n",
    "        \n",
    "        if n== stop_node:\n",
    "            path=[]\n",
    "            while parents[n]!=n:\n",
    "                path.append(n)\n",
    "                n=parents[n]\n",
    "\n",
    "            path.append(start_node)\n",
    "            path.reverse()\n",
    "            print (\"Path found \")\n",
    "            return path\n",
    "        \n",
    "        open_set.remove(n)\n",
    "        closed_set.add(n)\n",
    "    \n",
    "    print(\"Path does not exist\")\n",
    "    return None\n",
    "\n",
    "\n",
    "def get_neighbors(v):\n",
    "    if v in Graph_nodes:\n",
    "        return Graph_nodes[v]\n",
    "    else:\n",
    "        return None\n",
    "\n",
    "def heuristic(n):\n",
    "    H_dist={\n",
    "        'S':8,\n",
    "        'A':8,\n",
    "        'B':4,\n",
    "        'C':3,\n",
    "        'D':1000,\n",
    "        'E':1000,\n",
    "        'G':0,\n",
    "    }\n",
    "    return H_dist[n]\n",
    "\n",
    "\n",
    "\n",
    "Graph_nodes ={'S':[['A',1],['B',5],['C',8]],\n",
    "                      'A':[['D',3],['E',7],['G',9]],\n",
    "                      'B':[['G',4]],\n",
    "                      'C':[['G',5]],\n",
    "                      'D':None,\n",
    "                      'E':None\n",
    "                     }\n",
    "astar('D','G')"
   ]
  },
  {
   "cell_type": "code",
   "execution_count": null,
   "metadata": {},
   "outputs": [],
   "source": []
  }
 ],
 "metadata": {
  "kernelspec": {
   "display_name": "base",
   "language": "python",
   "name": "python3"
  },
  "language_info": {
   "codemirror_mode": {
    "name": "ipython",
    "version": 3
   },
   "file_extension": ".py",
   "mimetype": "text/x-python",
   "name": "python",
   "nbconvert_exporter": "python",
   "pygments_lexer": "ipython3",
   "version": "3.8.8"
  },
  "orig_nbformat": 4,
  "vscode": {
   "interpreter": {
    "hash": "b647a98f5a771bef6128177185896650a5eaba3992f263c2977efddc3ac935a8"
   }
  }
 },
 "nbformat": 4,
 "nbformat_minor": 2
}
