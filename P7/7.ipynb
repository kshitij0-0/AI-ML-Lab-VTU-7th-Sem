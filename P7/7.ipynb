{
 "cells": [
  {
   "cell_type": "code",
   "execution_count": null,
   "metadata": {},
   "outputs": [],
   "source": [
    "import numpy as np\n",
    "import pandas as pd\n",
    "from sklearn.mixture import GaussianMixture\n",
    "from sklearn.cluster import KMeans\n",
    "from matplotlib import pyplot as plt\n",
    "import seaborn as sb\n",
    "\n",
    "data = pd.read_csv('ex.csv')\n",
    "\n",
    "f1 =data['V1'].values\n",
    "f2 = data['V2'].values\n",
    "\n",
    "x = np.array(list(zip(f1,f2)))\n",
    "\n",
    "plt.scatter(f1,f2,c='black')\n",
    "plt.show()\n",
    "\n",
    "\n",
    "kmeans = KMeans(2)\n",
    "labels = kmeans.fit(x).predict(x)\n",
    "plt.scatter(f1,f2,c=labels)\n",
    "\n",
    "centroids = kmeans.cluster_centers_\n",
    "plt.scatter(centroids[:,0],centroids[:,1],marker = '*')\n",
    "plt.show()\n",
    "\n",
    "gmm = GaussianMixture(2)\n",
    "labels = gmm.fit(x).predict(x)\n",
    "plt.scatter(f1,f2,c=labels)\n",
    "plt.show()\n",
    "\n"
   ]
  }
 ],
 "metadata": {
  "kernelspec": {
   "display_name": "base",
   "language": "python",
   "name": "python3"
  },
  "language_info": {
   "codemirror_mode": {
    "name": "ipython",
    "version": 3
   },
   "file_extension": ".py",
   "mimetype": "text/x-python",
   "name": "python",
   "nbconvert_exporter": "python",
   "pygments_lexer": "ipython3",
   "version": "3.8.8 (default, Apr 13 2021, 15:08:03) [MSC v.1916 64 bit (AMD64)]"
  },
  "orig_nbformat": 4,
  "vscode": {
   "interpreter": {
    "hash": "b647a98f5a771bef6128177185896650a5eaba3992f263c2977efddc3ac935a8"
   }
  }
 },
 "nbformat": 4,
 "nbformat_minor": 2
}
