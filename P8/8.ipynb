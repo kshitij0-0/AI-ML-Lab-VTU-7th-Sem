{
 "cells": [
  {
   "cell_type": "code",
   "execution_count": 1,
   "metadata": {},
   "outputs": [
    {
     "name": "stdout",
     "output_type": "stream",
     "text": [
      "Sample : [6.2 2.9 4.3 1.3] Actual : 1 Predicted :  1\n",
      "Sample : [4.7 3.2 1.6 0.2] Actual : 0 Predicted :  0\n",
      "Sample : [4.8 3.1 1.6 0.2] Actual : 0 Predicted :  0\n",
      "Sample : [4.9 2.4 3.3 1. ] Actual : 1 Predicted :  1\n",
      "Sample : [6.4 3.2 5.3 2.3] Actual : 2 Predicted :  2\n",
      "Sample : [6.4 2.7 5.3 1.9] Actual : 2 Predicted :  2\n",
      "Sample : [6.2 3.4 5.4 2.3] Actual : 2 Predicted :  2\n",
      "Sample : [4.6 3.4 1.4 0.3] Actual : 0 Predicted :  0\n",
      "Sample : [5.5 2.4 3.7 1. ] Actual : 1 Predicted :  1\n",
      "Sample : [7.3 2.9 6.3 1.8] Actual : 2 Predicted :  2\n",
      "Sample : [5.6 2.7 4.2 1.3] Actual : 1 Predicted :  1\n",
      "Sample : [6.8 3.  5.5 2.1] Actual : 2 Predicted :  2\n",
      "Sample : [6.4 3.2 4.5 1.5] Actual : 1 Predicted :  1\n",
      "Sample : [5.1 3.3 1.7 0.5] Actual : 0 Predicted :  0\n",
      "Sample : [6.3 2.3 4.4 1.3] Actual : 1 Predicted :  1\n"
     ]
    },
    {
     "name": "stderr",
     "output_type": "stream",
     "text": [
      "c:\\Users\\kshit\\anaconda3\\lib\\site-packages\\sklearn\\neighbors\\_classification.py:211: FutureWarning: Unlike other reduction functions (e.g. `skew`, `kurtosis`), the default behavior of `mode` typically preserves the axis it acts along. In SciPy 1.11.0, this behavior will change: the default value of `keepdims` will become False, the `axis` over which the statistic is taken will be eliminated, and the value None will no longer be accepted. Set `keepdims` to True or False to avoid this warning.\n",
      "  mode, _ = stats.mode(_y[neigh_ind, k], axis=1)\n",
      "c:\\Users\\kshit\\anaconda3\\lib\\site-packages\\sklearn\\neighbors\\_classification.py:211: FutureWarning: Unlike other reduction functions (e.g. `skew`, `kurtosis`), the default behavior of `mode` typically preserves the axis it acts along. In SciPy 1.11.0, this behavior will change: the default value of `keepdims` will become False, the `axis` over which the statistic is taken will be eliminated, and the value None will no longer be accepted. Set `keepdims` to True or False to avoid this warning.\n",
      "  mode, _ = stats.mode(_y[neigh_ind, k], axis=1)\n"
     ]
    },
    {
     "data": {
      "text/plain": [
       "1.0"
      ]
     },
     "execution_count": 1,
     "metadata": {},
     "output_type": "execute_result"
    }
   ],
   "source": [
    "from matplotlib import pyplot as plt\n",
    "from sklearn.neighbors import KNeighborsClassifier\n",
    "from sklearn import datasets\n",
    "from sklearn.model_selection import train_test_split\n",
    "\n",
    "data = datasets.load_iris()\n",
    "\n",
    "xtrain,xtest,ytrain,ytest = train_test_split(data.data,data.target,test_size=0.1)\n",
    "\n",
    "classi = KNeighborsClassifier(n_neighbors=2)\n",
    "classi.fit(xtrain,ytrain)\n",
    "pred = classi.predict(xtest)\n",
    "\n",
    "for i in range(len(xtest)):\n",
    "    print(\"Sample :\",str(xtest[i]), \"Actual :\",str(ytest[i]),\"Predicted : \" ,str(pred[i]))\n",
    "classi.score(xtest,ytest)\n"
   ]
  },
  {
   "cell_type": "code",
   "execution_count": null,
   "metadata": {},
   "outputs": [],
   "source": []
  }
 ],
 "metadata": {
  "kernelspec": {
   "display_name": "base",
   "language": "python",
   "name": "python3"
  },
  "language_info": {
   "codemirror_mode": {
    "name": "ipython",
    "version": 3
   },
   "file_extension": ".py",
   "mimetype": "text/x-python",
   "name": "python",
   "nbconvert_exporter": "python",
   "pygments_lexer": "ipython3",
   "version": "3.8.8"
  },
  "orig_nbformat": 4,
  "vscode": {
   "interpreter": {
    "hash": "b647a98f5a771bef6128177185896650a5eaba3992f263c2977efddc3ac935a8"
   }
  }
 },
 "nbformat": 4,
 "nbformat_minor": 2
}
