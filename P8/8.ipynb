{
 "cells": [
  {
   "cell_type": "code",
   "execution_count": null,
   "metadata": {},
   "outputs": [],
   "source": [
    "from matplotlib import pyplot as plt\n",
    "from sklearn.neighbors import KNeighborsClassifier\n",
    "from sklearn import datasets\n",
    "from sklearn.model_selection import train_test_split\n",
    "\n",
    "data = datasets.load_iris()\n",
    "\n",
    "xtrain,xtest,ytrain,ytest = train_test_split(data.data,data.target,test_size=0.1)\n",
    "\n",
    "classi = KNeighborsClassifier(n_neighbors=2)\n",
    "classi.fit(xtrain,ytrain)\n",
    "pred = classi.predict(xtest)\n",
    "\n",
    "for i in range(len(xtest)):\n",
    "    print(\"Sample :\",str(xtest[i]), \"Actual :\",str(ytest[i]),\"Predicted : \" ,str(pred[i]))\n",
    "classi.score(xtest,ytest)\n"
   ]
  }
 ],
 "metadata": {
  "kernelspec": {
   "display_name": "base",
   "language": "python",
   "name": "python3"
  },
  "language_info": {
   "codemirror_mode": {
    "name": "ipython",
    "version": 3
   },
   "file_extension": ".py",
   "mimetype": "text/x-python",
   "name": "python",
   "nbconvert_exporter": "python",
   "pygments_lexer": "ipython3",
   "version": "3.8.8"
  },
  "orig_nbformat": 4,
  "vscode": {
   "interpreter": {
    "hash": "b647a98f5a771bef6128177185896650a5eaba3992f263c2977efddc3ac935a8"
   }
  }
 },
 "nbformat": 4,
 "nbformat_minor": 2
}
