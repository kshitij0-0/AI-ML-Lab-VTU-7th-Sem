{
 "cells": [
  {
   "cell_type": "code",
   "execution_count": null,
   "metadata": {},
   "outputs": [],
   "source": [
    "data = []\n",
    "with open('trainingexamples.csv') as f:\n",
    "    for line in f:\n",
    "        data.append(line.strip().split(','))\n",
    "\n",
    "rows = len(data)\n",
    "cols = len(data[0])\n",
    "shypo = ['0'] * (cols-1)\n",
    "ghypo = [['?']*(cols-1)]\n",
    "\n",
    "for x in range(rows):\n",
    "    lst = data[x]\n",
    "\n",
    "    if lst[cols-1] == 'Yes':\n",
    "        for i in range(cols-1):\n",
    "            if shypo[i] == lst[i]:\n",
    "                continue\n",
    "\n",
    "            if shypo[i] != '0':\n",
    "                shypo[i] = '?'\n",
    "            else:\n",
    "                shypo[i] = lst[i]\n",
    "            \n",
    "            for g in ghypo:\n",
    "                if g[i] !='?' and shypo[i]=='?':\n",
    "                    ghypo.remove(g)\n",
    "    else:\n",
    "        ghypo.clear()\n",
    "        for i in range(cols-1):\n",
    "            if lst[i] != shypo[i] and shypo[i] != '?':\n",
    "                temp_list = ['?'] * i + [shypo[i]]  + ['?'] * (cols-2-i)\n",
    "                if temp_list not in ghypo:\n",
    "                    ghypo.append(temp_list)\n"
   ]
  },
  {
   "cell_type": "code",
   "execution_count": null,
   "metadata": {},
   "outputs": [],
   "source": [
    "shypo"
   ]
  },
  {
   "cell_type": "code",
   "execution_count": null,
   "metadata": {},
   "outputs": [],
   "source": [
    "ghypo"
   ]
  }
 ],
 "metadata": {
  "kernelspec": {
   "display_name": "Python 3",
   "language": "python",
   "name": "python3"
  },
  "language_info": {
   "codemirror_mode": {
    "name": "ipython",
    "version": 3
   },
   "file_extension": ".py",
   "mimetype": "text/x-python",
   "name": "python",
   "nbconvert_exporter": "python",
   "pygments_lexer": "ipython3",
   "version": "3.10.4 (tags/v3.10.4:9d38120, Mar 23 2022, 23:13:41) [MSC v.1929 64 bit (AMD64)]"
  },
  "orig_nbformat": 4,
  "vscode": {
   "interpreter": {
    "hash": "47585d7e26a53dd11384cfbca0ed0fada68da3b2f61a4b1c0645c12a4712488b"
   }
  }
 },
 "nbformat": 4,
 "nbformat_minor": 2
}
