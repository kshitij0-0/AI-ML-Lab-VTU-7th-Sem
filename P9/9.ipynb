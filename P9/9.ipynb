{
 "cells": [
  {
   "cell_type": "code",
   "execution_count": null,
   "metadata": {},
   "outputs": [],
   "source": [
    "import numpy as np\n",
    "import matplotlib.pyplot as plt\n",
    "\n",
    "def lwr(x0,X,Y,tau):\n",
    "    x0 = [1,x0]\n",
    "    X = [[1,i] for i in X]\n",
    "    X= np.array(X)\n",
    "    xw = (X.T) * np.exp(np.sum((X - x0)**2 ,axis = 1) / (-2 * tau))\n",
    "    #xw = (X.T) * np.exp(np.sum((X - x0) ** 2, axis=1) / (-2 * tau))\n",
    "    beta = np.linalg.pinv(xw @ X) @xw @ Y @ x0\n",
    "    return beta\n",
    "\n",
    "\n",
    "\n",
    "def draw(tau):\n",
    "    prediction = [lwr(x0,X,Y,tau) for x0 in domain]\n",
    "    plt.plot(X,Y,'o',c='black')\n",
    "    plt.plot(domain,prediction,c='red')\n",
    "    plt.show()\n",
    "\n",
    "\n",
    "\n",
    "X = np.linspace(-3, 3, num=1000)\n",
    "domain = X\n",
    "Y = X ** 2 \n",
    "\n",
    "draw(10)\n",
    "draw(1)\n"
   ]
  }
 ],
 "metadata": {
  "kernelspec": {
   "display_name": "base",
   "language": "python",
   "name": "python3"
  },
  "language_info": {
   "codemirror_mode": {
    "name": "ipython",
    "version": 3
   },
   "file_extension": ".py",
   "mimetype": "text/x-python",
   "name": "python",
   "nbconvert_exporter": "python",
   "pygments_lexer": "ipython3",
   "version": "3.8.8 (default, Apr 13 2021, 15:08:03) [MSC v.1916 64 bit (AMD64)]"
  },
  "orig_nbformat": 4,
  "vscode": {
   "interpreter": {
    "hash": "b647a98f5a771bef6128177185896650a5eaba3992f263c2977efddc3ac935a8"
   }
  }
 },
 "nbformat": 4,
 "nbformat_minor": 2
}
